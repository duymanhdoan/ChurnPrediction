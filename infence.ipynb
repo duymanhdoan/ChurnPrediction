{
 "cells": [
  {
   "cell_type": "code",
   "execution_count": 16,
   "metadata": {},
   "outputs": [],
   "source": [
    "import pandas as pd\n",
    "import datetime,csv\n",
    "from tkinter import filedialog\n",
    "\n",
    "# sklearn modules for data preprocessing-------------------------------------\n",
    "from sklearn.preprocessing import StandardScaler \n",
    "import joblib"
   ]
  },
  {
   "cell_type": "code",
   "execution_count": 19,
   "metadata": {},
   "outputs": [],
   "source": [
    "class inference():\n",
    "    def __init__(self,database=''):\n",
    "        database=pd.read_csv('dataset.csv')\n",
    "        database = database.iloc[:-3652]\n",
    "        self.database=database\n",
    "\n",
    "    def getdata(self):\n",
    "        print('How do you want to input:')\n",
    "        ### Manual input---------------------------------------------\n",
    "        # value = input(\"1: Choose a list of id from file (*.log, *.txt, *.csv); anything else for inference all in Database:\\n\")\n",
    "        value=2\n",
    "\n",
    "        id_list = []\n",
    "        if value == 1:\n",
    "            filename = filedialog.askopenfile(title='Please choose id list file')\n",
    "            filename= filename.name\n",
    "            # filename='1idlist.txt'\n",
    "            with open(filename,'r',newline='') as f:\n",
    "                    reader = csv.reader(f)\n",
    "                    for row in reader:\n",
    "                        id_list+=row  \n",
    "        \n",
    "            id_list=list(dict.fromkeys(id_list))\n",
    "            id_not_in_DB = set(id_list)-set(self.database['uid'])\n",
    "            if len(id_not_in_DB)>0:\n",
    "                print('id not in DB:',len(id_not_in_DB),', you may want to updata your Database')\n",
    "            id_list = list(set(id_list) & set(self.database['uid']))\n",
    "            data={}\n",
    "            data = pd.DataFrame(data)\n",
    "            for uid in id_list:    \n",
    "                # print(self.database.loc[self.database['uid'] == uid])\n",
    "                data=pd.concat([data,self.database.loc[self.database['uid'] == uid]],axis=0)\n",
    "            return data\n",
    "        else:\n",
    "            print('Run predict for all id in Database')\n",
    "            return self.database\n",
    "\n",
    "    def run_inference(self):\n",
    "        \n",
    "        ### load data------------------------------------------\n",
    "        data = self.getdata()\n",
    "        data.head()\n",
    "        data.columns\n",
    "        data.describe()\n",
    "        data.dtypes\n",
    "        data.columns.to_series().groupby(data.dtypes).groups\n",
    "        data.info()\n",
    "        data.isna().any()\n",
    "        print(data[\"isChurn\"].value_counts())\n",
    "\n",
    "        ### Preprocess-------------------------------------------\n",
    "        response = data[\"isChurn\"]\n",
    "\n",
    "        data=data.drop(['last_time_play',\"isChurn\"],axis=1)\n",
    "\n",
    "\n",
    "        identity = data['uid']\n",
    "        data=data.drop(['uid'],axis=1)\n",
    "        # Step 14: Feature Scaling-----------------------------------------------------------------------\n",
    "\n",
    "        sc_X = StandardScaler()\n",
    "        data2 = pd.DataFrame(sc_X.fit_transform(data))\n",
    "        data2.columns = data.columns.values\n",
    "        data2.index = data.index.values\n",
    "        # data = data2\n",
    "\n",
    "        classifier = joblib.load('finalized_model.sav')\n",
    "        pred = classifier.predict(data2)\n",
    "        \n",
    "        results = pd.concat([identity,data,response], axis = 1).dropna()\n",
    "\n",
    "        results['predictions'] = pred \n",
    "\n",
    "        # final_results.loc[final_results['predictions'].isin('True')]\n",
    "        # print(final_results['predictions'].value_counts())\n",
    "        \n",
    "\n",
    "    \n"
   ]
  },
  {
   "cell_type": "code",
   "execution_count": 20,
   "metadata": {},
   "outputs": [
    {
     "name": "stdout",
     "output_type": "stream",
     "text": [
      "How do you want to input:\n",
      "Run predict for all id in Database\n",
      "<class 'pandas.core.frame.DataFrame'>\n",
      "RangeIndex: 5504 entries, 0 to 5503\n",
      "Data columns (total 16 columns):\n",
      " #   Column                     Non-Null Count  Dtype  \n",
      "---  ------                     --------------  -----  \n",
      " 0   uid                        5504 non-null   object \n",
      " 1   high_level                 5504 non-null   float64\n",
      " 2   total_level                5504 non-null   float64\n",
      " 3   time_to_play               5504 non-null   float64\n",
      " 4   ball_popped                5504 non-null   float64\n",
      " 5   ball_drop                  5504 non-null   float64\n",
      " 6   shot                       5504 non-null   float64\n",
      " 7   is_win                     5504 non-null   float64\n",
      " 8   is_first_time_win          5504 non-null   float64\n",
      " 9   powerball                  5504 non-null   float64\n",
      " 10  number_of_sessions         5504 non-null   float64\n",
      " 11  length_of_sessions         5504 non-null   float64\n",
      " 12  interval_between_sessions  5504 non-null   float64\n",
      " 13  playCount                  5504 non-null   float64\n",
      " 14  last_time_play             5504 non-null   object \n",
      " 15  isChurn                    5504 non-null   bool   \n",
      "dtypes: bool(1), float64(13), object(2)\n",
      "memory usage: 650.5+ KB\n",
      "False    5504\n",
      "Name: isChurn, dtype: int64\n"
     ]
    }
   ],
   "source": [
    "getresult = inference()\n",
    "getresult.run_inference()"
   ]
  }
 ],
 "metadata": {
  "kernelspec": {
   "display_name": "Python 3.9.12 ('base')",
   "language": "python",
   "name": "python3"
  },
  "language_info": {
   "codemirror_mode": {
    "name": "ipython",
    "version": 3
   },
   "file_extension": ".py",
   "mimetype": "text/x-python",
   "name": "python",
   "nbconvert_exporter": "python",
   "pygments_lexer": "ipython3",
   "version": "3.8.5"
  },
  "vscode": {
   "interpreter": {
    "hash": "ad2bdc8ecc057115af97d19610ffacc2b4e99fae6737bb82f5d7fb13d2f2c186"
   }
  }
 },
 "nbformat": 4,
 "nbformat_minor": 4
}
